{
  "cells": [
    {
      "cell_type": "code",
      "execution_count": 157,
      "metadata": {
        "id": "NZ8TNRExyflT"
      },
      "outputs": [],
      "source": [
        "# importing the dependencies\n",
        "import pandas as pd\n",
        "import numpy as np\n",
        "from sklearn.model_selection import train_test_split\n",
        "import tensorflow as tf\n",
        "from transformers import TFDistilBertForSequenceClassification, TFTrainer, TFTrainingArguments\n",
        "from transformers import DistilBertTokenizer"
      ]
    },
    {
      "cell_type": "code",
      "execution_count": 158,
      "metadata": {
        "id": "BT40lc6Ri5_3"
      },
      "outputs": [],
      "source": [
        "# importing the dataset\n",
        "df = pd.read_csv('/content/Twitter_Data.csv')"
      ]
    },
    {
      "cell_type": "code",
      "execution_count": 159,
      "metadata": {
        "id": "6syZY9QxvaxF"
      },
      "outputs": [],
      "source": [
        "df = df[:5000]"
      ]
    },
    {
      "cell_type": "code",
      "execution_count": 160,
      "metadata": {
        "colab": {
          "base_uri": "https://localhost:8080/"
        },
        "id": "RiD9B6V1C2Fx",
        "outputId": "779c297d-0304-463f-950b-3cee3119d08d"
      },
      "outputs": [
        {
          "output_type": "execute_result",
          "data": {
            "text/plain": [
              "(5000, 2)"
            ]
          },
          "metadata": {},
          "execution_count": 160
        }
      ],
      "source": [
        "df.shape"
      ]
    },
    {
      "cell_type": "code",
      "execution_count": 161,
      "metadata": {
        "colab": {
          "base_uri": "https://localhost:8080/"
        },
        "id": "CtB3vG16vkt9",
        "outputId": "c7464928-298e-4c6d-a43f-7b3da2dea073"
      },
      "outputs": [
        {
          "output_type": "execute_result",
          "data": {
            "text/plain": [
              " 1.0    2119\n",
              " 0.0    1794\n",
              "-1.0    1087\n",
              "Name: category, dtype: int64"
            ]
          },
          "metadata": {},
          "execution_count": 161
        }
      ],
      "source": [
        "df['category'].value_counts()"
      ]
    },
    {
      "cell_type": "code",
      "execution_count": 162,
      "metadata": {
        "colab": {
          "base_uri": "https://localhost:8080/"
        },
        "id": "7dtoGimMxFO-",
        "outputId": "afcb794b-0cdd-44a0-e6b2-94b1ad65d261"
      },
      "outputs": [
        {
          "output_type": "execute_result",
          "data": {
            "text/plain": [
              "clean_text    1\n",
              "category      0\n",
              "dtype: int64"
            ]
          },
          "metadata": {},
          "execution_count": 162
        }
      ],
      "source": [
        "# checking the null values\n",
        "df.isnull().sum()"
      ]
    },
    {
      "cell_type": "code",
      "execution_count": 163,
      "metadata": {
        "id": "uaEJu0BSxHzo"
      },
      "outputs": [],
      "source": [
        "# dropping the null values\n",
        "df.dropna(inplace = True)"
      ]
    },
    {
      "cell_type": "code",
      "execution_count": 164,
      "metadata": {
        "colab": {
          "base_uri": "https://localhost:8080/"
        },
        "id": "xY4qPT4yuYzq",
        "outputId": "d68b90f2-65c0-45b2-e754-2954583a90f8"
      },
      "outputs": [
        {
          "output_type": "execute_result",
          "data": {
            "text/plain": [
              "(4999, 2)"
            ]
          },
          "metadata": {},
          "execution_count": 164
        }
      ],
      "source": [
        "df.shape"
      ]
    },
    {
      "cell_type": "code",
      "execution_count": 165,
      "metadata": {
        "id": "rHyOb2Pfu-Qg"
      },
      "outputs": [],
      "source": [
        "df.reset_index(inplace = True)"
      ]
    },
    {
      "cell_type": "code",
      "execution_count": 166,
      "metadata": {
        "id": "2vy3VIFsu-UA"
      },
      "outputs": [],
      "source": [
        "# encoding the values of  output column\n",
        "\n",
        "df['encoded_output'] = df['category'].astype('category').cat.codes"
      ]
    },
    {
      "cell_type": "code",
      "execution_count": 167,
      "metadata": {
        "colab": {
          "base_uri": "https://localhost:8080/",
          "height": 206
        },
        "id": "bMPvQMnbv3-z",
        "outputId": "9f11f77a-1056-4000-8aca-a39e63ed9cfc"
      },
      "outputs": [
        {
          "output_type": "execute_result",
          "data": {
            "text/plain": [
              "   index                                         clean_text  category  \\\n",
              "0      0  when modi promised “minimum government maximum...      -1.0   \n",
              "1      1  talk all the nonsense and continue all the dra...       0.0   \n",
              "2      2  what did just say vote for modi  welcome bjp t...       1.0   \n",
              "3      3  asking his supporters prefix chowkidar their n...       1.0   \n",
              "4      4  answer who among these the most powerful world...       1.0   \n",
              "\n",
              "   encoded_output  \n",
              "0               0  \n",
              "1               1  \n",
              "2               2  \n",
              "3               2  \n",
              "4               2  "
            ],
            "text/html": [
              "\n",
              "  <div id=\"df-d8793d28-e60d-46c2-8c31-ba60830accf6\" class=\"colab-df-container\">\n",
              "    <div>\n",
              "<style scoped>\n",
              "    .dataframe tbody tr th:only-of-type {\n",
              "        vertical-align: middle;\n",
              "    }\n",
              "\n",
              "    .dataframe tbody tr th {\n",
              "        vertical-align: top;\n",
              "    }\n",
              "\n",
              "    .dataframe thead th {\n",
              "        text-align: right;\n",
              "    }\n",
              "</style>\n",
              "<table border=\"1\" class=\"dataframe\">\n",
              "  <thead>\n",
              "    <tr style=\"text-align: right;\">\n",
              "      <th></th>\n",
              "      <th>index</th>\n",
              "      <th>clean_text</th>\n",
              "      <th>category</th>\n",
              "      <th>encoded_output</th>\n",
              "    </tr>\n",
              "  </thead>\n",
              "  <tbody>\n",
              "    <tr>\n",
              "      <th>0</th>\n",
              "      <td>0</td>\n",
              "      <td>when modi promised “minimum government maximum...</td>\n",
              "      <td>-1.0</td>\n",
              "      <td>0</td>\n",
              "    </tr>\n",
              "    <tr>\n",
              "      <th>1</th>\n",
              "      <td>1</td>\n",
              "      <td>talk all the nonsense and continue all the dra...</td>\n",
              "      <td>0.0</td>\n",
              "      <td>1</td>\n",
              "    </tr>\n",
              "    <tr>\n",
              "      <th>2</th>\n",
              "      <td>2</td>\n",
              "      <td>what did just say vote for modi  welcome bjp t...</td>\n",
              "      <td>1.0</td>\n",
              "      <td>2</td>\n",
              "    </tr>\n",
              "    <tr>\n",
              "      <th>3</th>\n",
              "      <td>3</td>\n",
              "      <td>asking his supporters prefix chowkidar their n...</td>\n",
              "      <td>1.0</td>\n",
              "      <td>2</td>\n",
              "    </tr>\n",
              "    <tr>\n",
              "      <th>4</th>\n",
              "      <td>4</td>\n",
              "      <td>answer who among these the most powerful world...</td>\n",
              "      <td>1.0</td>\n",
              "      <td>2</td>\n",
              "    </tr>\n",
              "  </tbody>\n",
              "</table>\n",
              "</div>\n",
              "    <div class=\"colab-df-buttons\">\n",
              "\n",
              "  <div class=\"colab-df-container\">\n",
              "    <button class=\"colab-df-convert\" onclick=\"convertToInteractive('df-d8793d28-e60d-46c2-8c31-ba60830accf6')\"\n",
              "            title=\"Convert this dataframe to an interactive table.\"\n",
              "            style=\"display:none;\">\n",
              "\n",
              "  <svg xmlns=\"http://www.w3.org/2000/svg\" height=\"24px\" viewBox=\"0 -960 960 960\">\n",
              "    <path d=\"M120-120v-720h720v720H120Zm60-500h600v-160H180v160Zm220 220h160v-160H400v160Zm0 220h160v-160H400v160ZM180-400h160v-160H180v160Zm440 0h160v-160H620v160ZM180-180h160v-160H180v160Zm440 0h160v-160H620v160Z\"/>\n",
              "  </svg>\n",
              "    </button>\n",
              "\n",
              "  <style>\n",
              "    .colab-df-container {\n",
              "      display:flex;\n",
              "      gap: 12px;\n",
              "    }\n",
              "\n",
              "    .colab-df-convert {\n",
              "      background-color: #E8F0FE;\n",
              "      border: none;\n",
              "      border-radius: 50%;\n",
              "      cursor: pointer;\n",
              "      display: none;\n",
              "      fill: #1967D2;\n",
              "      height: 32px;\n",
              "      padding: 0 0 0 0;\n",
              "      width: 32px;\n",
              "    }\n",
              "\n",
              "    .colab-df-convert:hover {\n",
              "      background-color: #E2EBFA;\n",
              "      box-shadow: 0px 1px 2px rgba(60, 64, 67, 0.3), 0px 1px 3px 1px rgba(60, 64, 67, 0.15);\n",
              "      fill: #174EA6;\n",
              "    }\n",
              "\n",
              "    .colab-df-buttons div {\n",
              "      margin-bottom: 4px;\n",
              "    }\n",
              "\n",
              "    [theme=dark] .colab-df-convert {\n",
              "      background-color: #3B4455;\n",
              "      fill: #D2E3FC;\n",
              "    }\n",
              "\n",
              "    [theme=dark] .colab-df-convert:hover {\n",
              "      background-color: #434B5C;\n",
              "      box-shadow: 0px 1px 3px 1px rgba(0, 0, 0, 0.15);\n",
              "      filter: drop-shadow(0px 1px 2px rgba(0, 0, 0, 0.3));\n",
              "      fill: #FFFFFF;\n",
              "    }\n",
              "  </style>\n",
              "\n",
              "    <script>\n",
              "      const buttonEl =\n",
              "        document.querySelector('#df-d8793d28-e60d-46c2-8c31-ba60830accf6 button.colab-df-convert');\n",
              "      buttonEl.style.display =\n",
              "        google.colab.kernel.accessAllowed ? 'block' : 'none';\n",
              "\n",
              "      async function convertToInteractive(key) {\n",
              "        const element = document.querySelector('#df-d8793d28-e60d-46c2-8c31-ba60830accf6');\n",
              "        const dataTable =\n",
              "          await google.colab.kernel.invokeFunction('convertToInteractive',\n",
              "                                                    [key], {});\n",
              "        if (!dataTable) return;\n",
              "\n",
              "        const docLinkHtml = 'Like what you see? Visit the ' +\n",
              "          '<a target=\"_blank\" href=https://colab.research.google.com/notebooks/data_table.ipynb>data table notebook</a>'\n",
              "          + ' to learn more about interactive tables.';\n",
              "        element.innerHTML = '';\n",
              "        dataTable['output_type'] = 'display_data';\n",
              "        await google.colab.output.renderOutput(dataTable, element);\n",
              "        const docLink = document.createElement('div');\n",
              "        docLink.innerHTML = docLinkHtml;\n",
              "        element.appendChild(docLink);\n",
              "      }\n",
              "    </script>\n",
              "  </div>\n",
              "\n",
              "\n",
              "<div id=\"df-a69b629e-ae74-4539-a7a9-8f307149e150\">\n",
              "  <button class=\"colab-df-quickchart\" onclick=\"quickchart('df-a69b629e-ae74-4539-a7a9-8f307149e150')\"\n",
              "            title=\"Suggest charts\"\n",
              "            style=\"display:none;\">\n",
              "\n",
              "<svg xmlns=\"http://www.w3.org/2000/svg\" height=\"24px\"viewBox=\"0 0 24 24\"\n",
              "     width=\"24px\">\n",
              "    <g>\n",
              "        <path d=\"M19 3H5c-1.1 0-2 .9-2 2v14c0 1.1.9 2 2 2h14c1.1 0 2-.9 2-2V5c0-1.1-.9-2-2-2zM9 17H7v-7h2v7zm4 0h-2V7h2v10zm4 0h-2v-4h2v4z\"/>\n",
              "    </g>\n",
              "</svg>\n",
              "  </button>\n",
              "\n",
              "<style>\n",
              "  .colab-df-quickchart {\n",
              "      --bg-color: #E8F0FE;\n",
              "      --fill-color: #1967D2;\n",
              "      --hover-bg-color: #E2EBFA;\n",
              "      --hover-fill-color: #174EA6;\n",
              "      --disabled-fill-color: #AAA;\n",
              "      --disabled-bg-color: #DDD;\n",
              "  }\n",
              "\n",
              "  [theme=dark] .colab-df-quickchart {\n",
              "      --bg-color: #3B4455;\n",
              "      --fill-color: #D2E3FC;\n",
              "      --hover-bg-color: #434B5C;\n",
              "      --hover-fill-color: #FFFFFF;\n",
              "      --disabled-bg-color: #3B4455;\n",
              "      --disabled-fill-color: #666;\n",
              "  }\n",
              "\n",
              "  .colab-df-quickchart {\n",
              "    background-color: var(--bg-color);\n",
              "    border: none;\n",
              "    border-radius: 50%;\n",
              "    cursor: pointer;\n",
              "    display: none;\n",
              "    fill: var(--fill-color);\n",
              "    height: 32px;\n",
              "    padding: 0;\n",
              "    width: 32px;\n",
              "  }\n",
              "\n",
              "  .colab-df-quickchart:hover {\n",
              "    background-color: var(--hover-bg-color);\n",
              "    box-shadow: 0 1px 2px rgba(60, 64, 67, 0.3), 0 1px 3px 1px rgba(60, 64, 67, 0.15);\n",
              "    fill: var(--button-hover-fill-color);\n",
              "  }\n",
              "\n",
              "  .colab-df-quickchart-complete:disabled,\n",
              "  .colab-df-quickchart-complete:disabled:hover {\n",
              "    background-color: var(--disabled-bg-color);\n",
              "    fill: var(--disabled-fill-color);\n",
              "    box-shadow: none;\n",
              "  }\n",
              "\n",
              "  .colab-df-spinner {\n",
              "    border: 2px solid var(--fill-color);\n",
              "    border-color: transparent;\n",
              "    border-bottom-color: var(--fill-color);\n",
              "    animation:\n",
              "      spin 1s steps(1) infinite;\n",
              "  }\n",
              "\n",
              "  @keyframes spin {\n",
              "    0% {\n",
              "      border-color: transparent;\n",
              "      border-bottom-color: var(--fill-color);\n",
              "      border-left-color: var(--fill-color);\n",
              "    }\n",
              "    20% {\n",
              "      border-color: transparent;\n",
              "      border-left-color: var(--fill-color);\n",
              "      border-top-color: var(--fill-color);\n",
              "    }\n",
              "    30% {\n",
              "      border-color: transparent;\n",
              "      border-left-color: var(--fill-color);\n",
              "      border-top-color: var(--fill-color);\n",
              "      border-right-color: var(--fill-color);\n",
              "    }\n",
              "    40% {\n",
              "      border-color: transparent;\n",
              "      border-right-color: var(--fill-color);\n",
              "      border-top-color: var(--fill-color);\n",
              "    }\n",
              "    60% {\n",
              "      border-color: transparent;\n",
              "      border-right-color: var(--fill-color);\n",
              "    }\n",
              "    80% {\n",
              "      border-color: transparent;\n",
              "      border-right-color: var(--fill-color);\n",
              "      border-bottom-color: var(--fill-color);\n",
              "    }\n",
              "    90% {\n",
              "      border-color: transparent;\n",
              "      border-bottom-color: var(--fill-color);\n",
              "    }\n",
              "  }\n",
              "</style>\n",
              "\n",
              "  <script>\n",
              "    async function quickchart(key) {\n",
              "      const quickchartButtonEl =\n",
              "        document.querySelector('#' + key + ' button');\n",
              "      quickchartButtonEl.disabled = true;  // To prevent multiple clicks.\n",
              "      quickchartButtonEl.classList.add('colab-df-spinner');\n",
              "      try {\n",
              "        const charts = await google.colab.kernel.invokeFunction(\n",
              "            'suggestCharts', [key], {});\n",
              "      } catch (error) {\n",
              "        console.error('Error during call to suggestCharts:', error);\n",
              "      }\n",
              "      quickchartButtonEl.classList.remove('colab-df-spinner');\n",
              "      quickchartButtonEl.classList.add('colab-df-quickchart-complete');\n",
              "    }\n",
              "    (() => {\n",
              "      let quickchartButtonEl =\n",
              "        document.querySelector('#df-a69b629e-ae74-4539-a7a9-8f307149e150 button');\n",
              "      quickchartButtonEl.style.display =\n",
              "        google.colab.kernel.accessAllowed ? 'block' : 'none';\n",
              "    })();\n",
              "  </script>\n",
              "</div>\n",
              "\n",
              "    </div>\n",
              "  </div>\n"
            ]
          },
          "metadata": {},
          "execution_count": 167
        }
      ],
      "source": [
        "df.head()"
      ]
    },
    {
      "cell_type": "code",
      "execution_count": 168,
      "metadata": {
        "id": "eE-9h9yDxTQp"
      },
      "outputs": [],
      "source": [
        "x = list(df['clean_text'])\n",
        "y = list(df['encoded_output'])"
      ]
    },
    {
      "cell_type": "code",
      "execution_count": 169,
      "metadata": {
        "id": "sueqjwN5xVAO"
      },
      "outputs": [],
      "source": [
        "# spliting into train and test data\n",
        "\n",
        "x_train,x_test,y_train,y_test = train_test_split(x,y,test_size = 0.2,random_state = 4)"
      ]
    },
    {
      "cell_type": "code",
      "execution_count": 170,
      "metadata": {
        "id": "AEEYSOttxXEk"
      },
      "outputs": [],
      "source": [
        "# creating the tokenizer object\n",
        "tokenizer = DistilBertTokenizer.from_pretrained('distilbert-base-uncased')"
      ]
    },
    {
      "cell_type": "code",
      "execution_count": 171,
      "metadata": {
        "id": "V4rGy7thxds9"
      },
      "outputs": [],
      "source": [
        "# tokenizing all the input(train and validation) data\n",
        "\n",
        "train_encoding = tokenizer(x_train,truncation = True,padding = True)\n",
        "test_encoding = tokenizer(x_test,truncation = True,padding = True)"
      ]
    },
    {
      "cell_type": "code",
      "execution_count": 172,
      "metadata": {
        "id": "e0kuSJU5xhBR"
      },
      "outputs": [],
      "source": [
        "# converting the tokenized input data into tensor objects\n",
        "\n",
        "train_dataset = tf.data.Dataset.from_tensor_slices((dict(train_encoding),y_train))\n",
        "test_dataset = tf.data.Dataset.from_tensor_slices((dict(test_encoding),y_test))"
      ]
    },
    {
      "cell_type": "code",
      "execution_count": 173,
      "metadata": {
        "id": "9Ki5MmkWxjXa"
      },
      "outputs": [],
      "source": [
        "training_args = TFTrainingArguments(\n",
        "    output_dir='./results',\n",
        "    num_train_epochs=3,\n",
        "    per_device_train_batch_size=8,\n",
        "    per_device_eval_batch_size=16,\n",
        "    warmup_steps=500,\n",
        "    weight_decay=0.01,\n",
        "    logging_dir='./logs',\n",
        "    eval_steps = 500\n",
        ")"
      ]
    },
    {
      "cell_type": "code",
      "execution_count": 174,
      "metadata": {
        "colab": {
          "base_uri": "https://localhost:8080/"
        },
        "id": "ZkZKM_bvynwG",
        "outputId": "182eab99-b9e2-48af-9caf-8f25cb02314b"
      },
      "outputs": [
        {
          "output_type": "stream",
          "name": "stderr",
          "text": [
            "Some weights of the PyTorch model were not used when initializing the TF 2.0 model TFDistilBertForSequenceClassification: ['vocab_projector.bias', 'vocab_layer_norm.weight', 'vocab_transform.weight', 'vocab_layer_norm.bias', 'vocab_transform.bias']\n",
            "- This IS expected if you are initializing TFDistilBertForSequenceClassification from a PyTorch model trained on another task or with another architecture (e.g. initializing a TFBertForSequenceClassification model from a BertForPreTraining model).\n",
            "- This IS NOT expected if you are initializing TFDistilBertForSequenceClassification from a PyTorch model that you expect to be exactly identical (e.g. initializing a TFBertForSequenceClassification model from a BertForSequenceClassification model).\n",
            "Some weights or buffers of the TF 2.0 model TFDistilBertForSequenceClassification were not initialized from the PyTorch model and are newly initialized: ['pre_classifier.weight', 'pre_classifier.bias', 'classifier.weight', 'classifier.bias']\n",
            "You should probably TRAIN this model on a down-stream task to be able to use it for predictions and inference.\n",
            "/usr/local/lib/python3.10/dist-packages/transformers/trainer_tf.py:118: FutureWarning: The class `TFTrainer` is deprecated and will be removed in version 5 of Transformers. We recommend using native Keras instead, by calling methods like `fit()` and `predict()` directly on the model object. Detailed examples of the Keras style can be found in our examples at https://github.com/huggingface/transformers/tree/main/examples/tensorflow\n",
            "  warnings.warn(\n"
          ]
        }
      ],
      "source": [
        "# training the model\n",
        "\n",
        "with training_args.strategy.scope():\n",
        "    model = TFDistilBertForSequenceClassification.from_pretrained(\"distilbert-base-uncased\",num_labels = 3)\n",
        "\n",
        "trainer = TFTrainer(\n",
        "    model=model,\n",
        "    args=training_args,\n",
        "    train_dataset=train_dataset,\n",
        "    eval_dataset=test_dataset\n",
        ")\n",
        "trainer.train()"
      ]
    },
    {
      "cell_type": "code",
      "execution_count": 175,
      "metadata": {
        "id": "FSCt522nzUai",
        "colab": {
          "base_uri": "https://localhost:8080/"
        },
        "outputId": "129bd311-9670-4fdc-bae5-31eec666db4c"
      },
      "outputs": [
        {
          "output_type": "execute_result",
          "data": {
            "text/plain": [
              "PredictionOutput(predictions=array([[-2.7037625,  4.8039227, -2.2044668],\n",
              "       [-2.971625 , -2.1161304,  4.8654585],\n",
              "       [-2.4937053, -2.5231757,  4.8928986],\n",
              "       ...,\n",
              "       [-2.2591221,  4.4722524, -2.1967542],\n",
              "       [-2.7583435, -2.3707404,  4.878491 ],\n",
              "       [-2.6027758, -2.3211107,  4.7529283]], dtype=float32), label_ids=array([1, 2, 2, 1, 2, 2, 2, 0, 1, 2, 2, 2, 2, 2, 1, 1, 0, 0, 1, 0, 1, 1,\n",
              "       0, 1, 0, 2, 1, 1, 1, 2, 0, 0, 2, 0, 1, 2, 2, 2, 2, 0, 1, 1, 0, 0,\n",
              "       0, 0, 2, 1, 2, 2, 2, 2, 2, 2, 0, 2, 0, 2, 0, 2, 2, 2, 2, 2, 0, 2,\n",
              "       0, 2, 1, 1, 1, 2, 2, 0, 1, 2, 2, 0, 2, 1, 1, 1, 0, 2, 1, 0, 2, 2,\n",
              "       2, 1, 0, 0, 1, 0, 2, 2, 1, 2, 1, 2, 2, 2, 0, 0, 1, 2, 2, 2, 2, 0,\n",
              "       1, 1, 1, 1, 2, 1, 2, 1, 1, 0, 2, 1, 0, 2, 2, 1, 1, 0, 2, 2, 2, 2,\n",
              "       1, 0, 2, 1, 2, 0, 1, 1, 2, 2, 1, 1, 1, 2, 2, 0, 1, 1, 0, 1, 1, 1,\n",
              "       2, 0, 2, 2, 1, 0, 0, 0, 1, 1, 2, 2, 2, 1, 2, 2, 2, 2, 1, 2, 2, 2,\n",
              "       1, 2, 1, 1, 1, 2, 2, 1, 0, 1, 1, 1, 1, 2, 1, 0, 0, 2, 1, 1, 2, 2,\n",
              "       0, 2, 2, 2, 2, 2, 1, 1, 1, 2, 2, 2, 0, 2, 2, 2, 0, 1, 0, 2, 1, 2,\n",
              "       1, 1, 2, 2, 1, 2, 2, 2, 0, 1, 1, 2, 0, 2, 2, 0, 2, 2, 0, 1, 2, 2,\n",
              "       1, 1, 2, 0, 1, 2, 2, 1, 2, 2, 0, 2, 0, 1, 1, 1, 1, 0, 0, 2, 2, 1,\n",
              "       1, 1, 0, 2, 2, 1, 1, 1, 0, 1, 2, 1, 0, 0, 1, 2, 1, 2, 2, 1, 0, 1,\n",
              "       2, 2, 2, 0, 1, 2, 0, 0, 2, 1, 1, 2, 0, 0, 0, 2, 2, 1, 1, 1, 0, 2,\n",
              "       0, 1, 2, 1, 2, 1, 2, 2, 0, 2, 1, 1, 2, 2, 1, 0, 2, 2, 2, 2, 0, 1,\n",
              "       2, 2, 2, 2, 2, 1, 1, 1, 2, 2, 2, 2, 2, 0, 1, 0, 2, 1, 2, 2, 0, 2,\n",
              "       0, 2, 2, 1, 0, 2, 0, 0, 1, 2, 1, 2, 2, 2, 1, 2, 2, 1, 2, 2, 2, 1,\n",
              "       0, 1, 0, 1, 0, 1, 0, 2, 1, 1, 1, 1, 0, 2, 1, 0, 1, 0, 1, 0, 1, 2,\n",
              "       1, 2, 1, 1, 0, 1, 2, 2, 2, 2, 0, 0, 0, 2, 2, 1, 1, 0, 1, 1, 2, 2,\n",
              "       2, 1, 2, 2, 1, 2, 2, 1, 2, 1, 1, 2, 1, 2, 2, 1, 1, 2, 1, 0, 2, 1,\n",
              "       2, 0, 1, 0, 1, 2, 0, 0, 1, 2, 2, 0, 1, 0, 1, 2, 0, 1, 1, 0, 2, 0,\n",
              "       2, 0, 1, 2, 1, 0, 0, 1, 2, 1, 2, 2, 2, 1, 2, 0, 1, 0, 1, 2, 1, 1,\n",
              "       2, 2, 1, 2, 2, 0, 0, 1, 0, 2, 1, 0, 2, 2, 1, 2, 2, 0, 1, 2, 2, 1,\n",
              "       2, 1, 2, 1, 1, 1, 0, 2, 2, 2, 2, 2, 2, 2, 2, 1, 2, 0, 2, 2, 2, 1,\n",
              "       1, 2, 2, 1, 0, 0, 1, 2, 1, 2, 2, 0, 2, 0, 2, 1, 2, 0, 2, 1, 1, 2,\n",
              "       2, 0, 1, 1, 2, 2, 1, 1, 1, 2, 0, 1, 2, 1, 1, 1, 2, 1, 1, 0, 0, 0,\n",
              "       2, 0, 1, 1, 0, 1, 2, 0, 2, 2, 1, 0, 2, 1, 0, 0, 1, 2, 1, 2, 0, 1,\n",
              "       1, 2, 2, 2, 1, 1, 0, 1, 2, 0, 2, 0, 1, 1, 0, 1, 1, 2, 0, 0, 0, 2,\n",
              "       1, 0, 0, 2, 1, 1, 0, 1, 1, 2, 2, 0, 2, 2, 0, 2, 1, 1, 1, 2, 2, 1,\n",
              "       1, 0, 1, 0, 1, 2, 2, 0, 1, 2, 2, 1, 2, 0, 1, 1, 0, 1, 0, 1, 2, 0,\n",
              "       2, 0, 0, 0, 1, 2, 1, 2, 2, 1, 2, 0, 0, 2, 0, 0, 0, 1, 2, 0, 1, 1,\n",
              "       0, 1, 1, 0, 2, 1, 0, 0, 2, 1, 2, 0, 1, 1, 0, 1, 2, 2, 1, 2, 0, 1,\n",
              "       1, 2, 1, 2, 0, 1, 1, 0, 0, 2, 2, 2, 0, 1, 2, 0, 1, 1, 1, 1, 2, 2,\n",
              "       1, 2, 2, 1, 2, 2, 1, 0, 1, 2, 1, 2, 1, 2, 2, 1, 2, 2, 0, 1, 2, 0,\n",
              "       0, 2, 2, 1, 2, 1, 1, 1, 1, 0, 1, 2, 1, 1, 2, 1, 1, 1, 2, 2, 2, 0,\n",
              "       2, 2, 1, 2, 0, 1, 0, 2, 2, 1, 0, 2, 2, 2, 1, 0, 1, 2, 2, 2, 2, 1,\n",
              "       2, 2, 1, 1, 1, 2, 0, 1, 2, 1, 1, 2, 2, 1, 0, 2, 1, 2, 1, 1, 1, 2,\n",
              "       1, 2, 1, 0, 2, 2, 0, 2, 0, 2, 0, 1, 0, 2, 0, 2, 2, 2, 2, 1, 1, 1,\n",
              "       2, 1, 0, 2, 1, 1, 0, 1, 2, 2, 2, 1, 2, 2, 1, 2, 2, 1, 1, 2, 1, 1,\n",
              "       2, 2, 2, 0, 2, 2, 1, 1, 1, 1, 0, 0, 1, 2, 2, 0, 2, 2, 2, 1, 2, 2,\n",
              "       1, 2, 1, 2, 1, 1, 1, 1, 0, 2, 1, 1, 0, 2, 2, 1, 1, 2, 2, 1, 1, 0,\n",
              "       2, 1, 2, 2, 2, 1, 1, 1, 2, 0, 2, 0, 0, 2, 2, 2, 0, 2, 1, 1, 2, 2,\n",
              "       1, 2, 2, 2, 0, 1, 0, 0, 2, 0, 0, 2, 2, 2, 0, 2, 1, 1, 1, 2, 2, 2,\n",
              "       2, 0, 0, 1, 2, 0, 1, 2, 0, 2, 1, 2, 1, 2, 2, 2, 2, 1, 1, 1, 1, 1,\n",
              "       1, 2, 1, 1, 2, 2, 0, 0, 2, 2, 1, 2, 1, 2, 1, 1, 1, 2, 1, 1, 2, 0,\n",
              "       0, 1, 2, 0, 0, 2, 2, 1, 2, 2], dtype=int32), metrics={'eval_loss': 0.04411838546631828})"
            ]
          },
          "metadata": {},
          "execution_count": 175
        }
      ],
      "source": [
        "trainer.predict(test_dataset)"
      ]
    },
    {
      "cell_type": "code",
      "execution_count": 176,
      "metadata": {
        "id": "szwc165Czjlw",
        "colab": {
          "base_uri": "https://localhost:8080/"
        },
        "outputId": "4cc341cb-1287-4620-dd94-f3f617372f9a"
      },
      "outputs": [
        {
          "output_type": "execute_result",
          "data": {
            "text/plain": [
              "{'eval_loss': 0.04485230218796503}"
            ]
          },
          "metadata": {},
          "execution_count": 176
        }
      ],
      "source": [
        "trainer.evaluate()"
      ]
    },
    {
      "cell_type": "code",
      "execution_count": 177,
      "metadata": {
        "id": "fNMGVJWUznE7",
        "colab": {
          "base_uri": "https://localhost:8080/"
        },
        "outputId": "294f41d3-e434-47cb-dfc0-a02955695cc8"
      },
      "outputs": [
        {
          "output_type": "execute_result",
          "data": {
            "text/plain": [
              "('trained_model/tokenizer_config.json',\n",
              " 'trained_model/special_tokens_map.json',\n",
              " 'trained_model/vocab.txt',\n",
              " 'trained_model/added_tokens.json')"
            ]
          },
          "metadata": {},
          "execution_count": 177
        }
      ],
      "source": [
        "# save the model\n",
        "save = \"trained_model\"\n",
        "model.save_pretrained(save)\n",
        "tokenizer.save_pretrained(save)"
      ]
    },
    {
      "cell_type": "code",
      "execution_count": 178,
      "metadata": {
        "id": "o8_q5jSQWBWH",
        "colab": {
          "base_uri": "https://localhost:8080/"
        },
        "outputId": "31709160-4a10-4bc7-d7b3-cfdc9b172a76"
      },
      "outputs": [
        {
          "output_type": "stream",
          "name": "stderr",
          "text": [
            "Some layers from the model checkpoint at trained_model were not used when initializing TFDistilBertForSequenceClassification: ['dropout_259']\n",
            "- This IS expected if you are initializing TFDistilBertForSequenceClassification from the checkpoint of a model trained on another task or with another architecture (e.g. initializing a BertForSequenceClassification model from a BertForPreTraining model).\n",
            "- This IS NOT expected if you are initializing TFDistilBertForSequenceClassification from the checkpoint of a model that you expect to be exactly identical (initializing a BertForSequenceClassification model from a BertForSequenceClassification model).\n",
            "Some layers of TFDistilBertForSequenceClassification were not initialized from the model checkpoint at trained_model and are newly initialized: ['dropout_279']\n",
            "You should probably TRAIN this model on a down-stream task to be able to use it for predictions and inference.\n"
          ]
        }
      ],
      "source": [
        "# load the model\n",
        "\n",
        "trained_tokenizer = DistilBertTokenizer.from_pretrained(save)\n",
        "trained_model = TFDistilBertForSequenceClassification.from_pretrained(save)"
      ]
    },
    {
      "cell_type": "code",
      "execution_count": 179,
      "metadata": {
        "id": "GOXE8OJGWfFt"
      },
      "outputs": [],
      "source": [
        "# Prediction System\n",
        "\n",
        "def sentiment_Analyzer(text):\n",
        "\n",
        "  text.lower()\n",
        "\n",
        "  prediction = ['Negetive','Neutral','Positive']\n",
        "\n",
        "  predict_output = trained_tokenizer.encode(text,truncation = True,padding = True,return_tensors = 'tf')\n",
        "\n",
        "  output = trained_model.predict(predict_output)[0]\n",
        "  return prediction[np.argmax(output)]"
      ]
    },
    {
      "cell_type": "code",
      "execution_count": 180,
      "metadata": {
        "id": "6NSWGk_4XSD3",
        "colab": {
          "base_uri": "https://localhost:8080/",
          "height": 53
        },
        "outputId": "327375a3-1c08-4823-d080-04abe9475758"
      },
      "outputs": [
        {
          "output_type": "stream",
          "name": "stdout",
          "text": [
            "1/1 [==============================] - 2s 2s/step\n"
          ]
        },
        {
          "output_type": "execute_result",
          "data": {
            "text/plain": [
              "'Neutral'"
            ],
            "application/vnd.google.colaboratory.intrinsic+json": {
              "type": "string"
            }
          },
          "metadata": {},
          "execution_count": 180
        }
      ],
      "source": [
        "sentiment_Analyzer(\"peteralponse his campaign against modi thru media debates created rahul wave tnto garner minority support meets the president archbishops council madurai with feature stalian and secular candidates\")"
      ]
    },
    {
      "cell_type": "code",
      "execution_count": 180,
      "metadata": {
        "id": "fN3BO_PyYCyT"
      },
      "outputs": [],
      "source": []
    }
  ],
  "metadata": {
    "accelerator": "GPU",
    "colab": {
      "provenance": [],
      "gpuType": "T4"
    },
    "kernelspec": {
      "display_name": "Python 3",
      "name": "python3"
    },
    "language_info": {
      "name": "python"
    }
  },
  "nbformat": 4,
  "nbformat_minor": 0
}